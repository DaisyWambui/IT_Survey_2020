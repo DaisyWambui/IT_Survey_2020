{
 "cells": [
  {
   "cell_type": "code",
   "execution_count": 1,
   "id": "be12e041",
   "metadata": {},
   "outputs": [],
   "source": [
    "import numpy as np\n",
    "import pandas as pd\n",
    "import matplotlib.pyplot as plt\n",
    "import seaborn as sns\n",
    "%matplotlib inline"
   ]
  },
  {
   "cell_type": "code",
   "execution_count": 2,
   "id": "de005299",
   "metadata": {},
   "outputs": [],
   "source": [
    "#uploading datasets into the workspace\n",
    "survey_2020=pd.read_csv('IT Salary Survey EU  2020.csv')\n"
   ]
  },
  {
   "cell_type": "markdown",
   "id": "4a755977",
   "metadata": {},
   "source": [
    "<h1>Visual assessment</h1>"
   ]
  },
  {
   "cell_type": "code",
   "execution_count": 3,
   "id": "b870ee37",
   "metadata": {},
   "outputs": [
    {
     "data": {
      "text/html": [
       "<div>\n",
       "<style scoped>\n",
       "    .dataframe tbody tr th:only-of-type {\n",
       "        vertical-align: middle;\n",
       "    }\n",
       "\n",
       "    .dataframe tbody tr th {\n",
       "        vertical-align: top;\n",
       "    }\n",
       "\n",
       "    .dataframe thead th {\n",
       "        text-align: right;\n",
       "    }\n",
       "</style>\n",
       "<table border=\"1\" class=\"dataframe\">\n",
       "  <thead>\n",
       "    <tr style=\"text-align: right;\">\n",
       "      <th></th>\n",
       "      <th>Timestamp</th>\n",
       "      <th>Age</th>\n",
       "      <th>Gender</th>\n",
       "      <th>City</th>\n",
       "      <th>Position</th>\n",
       "      <th>Total years of experience</th>\n",
       "      <th>Years of experience in Germany</th>\n",
       "      <th>Seniority level</th>\n",
       "      <th>Your main technology / programming language</th>\n",
       "      <th>Other technologies/programming languages you use often</th>\n",
       "      <th>...</th>\n",
       "      <th>Annual bonus+stocks one year ago. Only answer if staying in same country</th>\n",
       "      <th>Number of vacation days</th>\n",
       "      <th>Employment status</th>\n",
       "      <th>Сontract duration</th>\n",
       "      <th>Main language at work</th>\n",
       "      <th>Company size</th>\n",
       "      <th>Company type</th>\n",
       "      <th>Have you lost your job due to the coronavirus outbreak?</th>\n",
       "      <th>Have you been forced to have a shorter working week (Kurzarbeit)? If yes, how many hours per week</th>\n",
       "      <th>Have you received additional monetary support from your employer due to Work From Home? If yes, how much in 2020 in EUR</th>\n",
       "    </tr>\n",
       "  </thead>\n",
       "  <tbody>\n",
       "    <tr>\n",
       "      <th>0</th>\n",
       "      <td>24/11/2020 11:14:15</td>\n",
       "      <td>26.0</td>\n",
       "      <td>Male</td>\n",
       "      <td>Munich</td>\n",
       "      <td>Software Engineer</td>\n",
       "      <td>5</td>\n",
       "      <td>3</td>\n",
       "      <td>Senior</td>\n",
       "      <td>TypeScript</td>\n",
       "      <td>Kotlin, Javascript / Typescript</td>\n",
       "      <td>...</td>\n",
       "      <td>10000</td>\n",
       "      <td>30</td>\n",
       "      <td>Full-time employee</td>\n",
       "      <td>Unlimited contract</td>\n",
       "      <td>English</td>\n",
       "      <td>51-100</td>\n",
       "      <td>Product</td>\n",
       "      <td>No</td>\n",
       "      <td>NaN</td>\n",
       "      <td>NaN</td>\n",
       "    </tr>\n",
       "    <tr>\n",
       "      <th>1</th>\n",
       "      <td>24/11/2020 11:14:16</td>\n",
       "      <td>26.0</td>\n",
       "      <td>Male</td>\n",
       "      <td>Berlin</td>\n",
       "      <td>Backend Developer</td>\n",
       "      <td>7</td>\n",
       "      <td>4</td>\n",
       "      <td>Senior</td>\n",
       "      <td>Ruby</td>\n",
       "      <td>NaN</td>\n",
       "      <td>...</td>\n",
       "      <td>5000</td>\n",
       "      <td>28</td>\n",
       "      <td>Full-time employee</td>\n",
       "      <td>Unlimited contract</td>\n",
       "      <td>English</td>\n",
       "      <td>101-1000</td>\n",
       "      <td>Product</td>\n",
       "      <td>No</td>\n",
       "      <td>NaN</td>\n",
       "      <td>NaN</td>\n",
       "    </tr>\n",
       "    <tr>\n",
       "      <th>2</th>\n",
       "      <td>24/11/2020 11:14:21</td>\n",
       "      <td>29.0</td>\n",
       "      <td>Male</td>\n",
       "      <td>Berlin</td>\n",
       "      <td>Software Engineer</td>\n",
       "      <td>12</td>\n",
       "      <td>6</td>\n",
       "      <td>Lead</td>\n",
       "      <td>Javascript / Typescript</td>\n",
       "      <td>Javascript / Typescript, Docker</td>\n",
       "      <td>...</td>\n",
       "      <td>100000</td>\n",
       "      <td>30</td>\n",
       "      <td>Self-employed (freelancer)</td>\n",
       "      <td>Temporary contract</td>\n",
       "      <td>English</td>\n",
       "      <td>101-1000</td>\n",
       "      <td>Product</td>\n",
       "      <td>Yes</td>\n",
       "      <td>NaN</td>\n",
       "      <td>NaN</td>\n",
       "    </tr>\n",
       "    <tr>\n",
       "      <th>3</th>\n",
       "      <td>24/11/2020 11:15:24</td>\n",
       "      <td>28.0</td>\n",
       "      <td>Male</td>\n",
       "      <td>Berlin</td>\n",
       "      <td>Frontend Developer</td>\n",
       "      <td>4</td>\n",
       "      <td>1</td>\n",
       "      <td>Junior</td>\n",
       "      <td>Javascript</td>\n",
       "      <td>NaN</td>\n",
       "      <td>...</td>\n",
       "      <td>NaN</td>\n",
       "      <td>24</td>\n",
       "      <td>Full-time employee</td>\n",
       "      <td>Unlimited contract</td>\n",
       "      <td>English</td>\n",
       "      <td>51-100</td>\n",
       "      <td>Startup</td>\n",
       "      <td>No</td>\n",
       "      <td>NaN</td>\n",
       "      <td>NaN</td>\n",
       "    </tr>\n",
       "    <tr>\n",
       "      <th>4</th>\n",
       "      <td>24/11/2020 11:15:46</td>\n",
       "      <td>37.0</td>\n",
       "      <td>Male</td>\n",
       "      <td>Berlin</td>\n",
       "      <td>Backend Developer</td>\n",
       "      <td>17</td>\n",
       "      <td>6</td>\n",
       "      <td>Senior</td>\n",
       "      <td>C# .NET</td>\n",
       "      <td>.NET, SQL, AWS, Docker</td>\n",
       "      <td>...</td>\n",
       "      <td>NaN</td>\n",
       "      <td>29</td>\n",
       "      <td>Full-time employee</td>\n",
       "      <td>Unlimited contract</td>\n",
       "      <td>English</td>\n",
       "      <td>101-1000</td>\n",
       "      <td>Product</td>\n",
       "      <td>No</td>\n",
       "      <td>NaN</td>\n",
       "      <td>NaN</td>\n",
       "    </tr>\n",
       "  </tbody>\n",
       "</table>\n",
       "<p>5 rows × 23 columns</p>\n",
       "</div>"
      ],
      "text/plain": [
       "             Timestamp   Age Gender    City           Position   \\\n",
       "0  24/11/2020 11:14:15  26.0   Male  Munich   Software Engineer   \n",
       "1  24/11/2020 11:14:16  26.0   Male  Berlin   Backend Developer   \n",
       "2  24/11/2020 11:14:21  29.0   Male  Berlin   Software Engineer   \n",
       "3  24/11/2020 11:15:24  28.0   Male  Berlin  Frontend Developer   \n",
       "4  24/11/2020 11:15:46  37.0   Male  Berlin   Backend Developer   \n",
       "\n",
       "  Total years of experience Years of experience in Germany Seniority level  \\\n",
       "0                         5                              3          Senior   \n",
       "1                         7                              4          Senior   \n",
       "2                        12                              6            Lead   \n",
       "3                         4                              1          Junior   \n",
       "4                        17                              6          Senior   \n",
       "\n",
       "  Your main technology / programming language  \\\n",
       "0                                  TypeScript   \n",
       "1                                        Ruby   \n",
       "2                     Javascript / Typescript   \n",
       "3                                  Javascript   \n",
       "4                                     C# .NET   \n",
       "\n",
       "  Other technologies/programming languages you use often  ...  \\\n",
       "0                    Kotlin, Javascript / Typescript      ...   \n",
       "1                                                NaN      ...   \n",
       "2                    Javascript / Typescript, Docker      ...   \n",
       "3                                                NaN      ...   \n",
       "4                             .NET, SQL, AWS, Docker      ...   \n",
       "\n",
       "   Annual bonus+stocks one year ago. Only answer if staying in same country  \\\n",
       "0                                              10000                          \n",
       "1                                               5000                          \n",
       "2                                             100000                          \n",
       "3                                                NaN                          \n",
       "4                                                NaN                          \n",
       "\n",
       "  Number of vacation days           Employment status   Сontract duration  \\\n",
       "0                      30          Full-time employee  Unlimited contract   \n",
       "1                      28          Full-time employee  Unlimited contract   \n",
       "2                      30  Self-employed (freelancer)  Temporary contract   \n",
       "3                      24          Full-time employee  Unlimited contract   \n",
       "4                      29          Full-time employee  Unlimited contract   \n",
       "\n",
       "  Main language at work Company size Company type  \\\n",
       "0               English       51-100      Product   \n",
       "1               English     101-1000      Product   \n",
       "2               English     101-1000      Product   \n",
       "3               English       51-100      Startup   \n",
       "4               English     101-1000      Product   \n",
       "\n",
       "  Have you lost your job due to the coronavirus outbreak?  \\\n",
       "0                                                 No        \n",
       "1                                                 No        \n",
       "2                                                Yes        \n",
       "3                                                 No        \n",
       "4                                                 No        \n",
       "\n",
       "  Have you been forced to have a shorter working week (Kurzarbeit)? If yes, how many hours per week  \\\n",
       "0                                                NaN                                                  \n",
       "1                                                NaN                                                  \n",
       "2                                                NaN                                                  \n",
       "3                                                NaN                                                  \n",
       "4                                                NaN                                                  \n",
       "\n",
       "  Have you received additional monetary support from your employer due to Work From Home? If yes, how much in 2020 in EUR  \n",
       "0                                                NaN                                                                       \n",
       "1                                                NaN                                                                       \n",
       "2                                                NaN                                                                       \n",
       "3                                                NaN                                                                       \n",
       "4                                                NaN                                                                       \n",
       "\n",
       "[5 rows x 23 columns]"
      ]
     },
     "execution_count": 3,
     "metadata": {},
     "output_type": "execute_result"
    }
   ],
   "source": [
    "survey_2020.head()"
   ]
  },
  {
   "cell_type": "code",
   "execution_count": 4,
   "id": "24fcd312",
   "metadata": {},
   "outputs": [
    {
     "data": {
      "text/html": [
       "<div>\n",
       "<style scoped>\n",
       "    .dataframe tbody tr th:only-of-type {\n",
       "        vertical-align: middle;\n",
       "    }\n",
       "\n",
       "    .dataframe tbody tr th {\n",
       "        vertical-align: top;\n",
       "    }\n",
       "\n",
       "    .dataframe thead th {\n",
       "        text-align: right;\n",
       "    }\n",
       "</style>\n",
       "<table border=\"1\" class=\"dataframe\">\n",
       "  <thead>\n",
       "    <tr style=\"text-align: right;\">\n",
       "      <th></th>\n",
       "      <th>Timestamp</th>\n",
       "      <th>Age</th>\n",
       "      <th>Gender</th>\n",
       "      <th>City</th>\n",
       "      <th>Position</th>\n",
       "      <th>Total years of experience</th>\n",
       "      <th>Years of experience in Germany</th>\n",
       "      <th>Seniority level</th>\n",
       "      <th>Your main technology / programming language</th>\n",
       "      <th>Other technologies/programming languages you use often</th>\n",
       "      <th>...</th>\n",
       "      <th>Annual bonus+stocks one year ago. Only answer if staying in same country</th>\n",
       "      <th>Number of vacation days</th>\n",
       "      <th>Employment status</th>\n",
       "      <th>Сontract duration</th>\n",
       "      <th>Main language at work</th>\n",
       "      <th>Company size</th>\n",
       "      <th>Company type</th>\n",
       "      <th>Have you lost your job due to the coronavirus outbreak?</th>\n",
       "      <th>Have you been forced to have a shorter working week (Kurzarbeit)? If yes, how many hours per week</th>\n",
       "      <th>Have you received additional monetary support from your employer due to Work From Home? If yes, how much in 2020 in EUR</th>\n",
       "    </tr>\n",
       "  </thead>\n",
       "  <tbody>\n",
       "    <tr>\n",
       "      <th>734</th>\n",
       "      <td>26/11/2020 08:39:28</td>\n",
       "      <td>36.0</td>\n",
       "      <td>Male</td>\n",
       "      <td>Berlin</td>\n",
       "      <td>Backend Developer</td>\n",
       "      <td>4</td>\n",
       "      <td>1</td>\n",
       "      <td>Middle</td>\n",
       "      <td>Java</td>\n",
       "      <td>Python, SQL, Kubernetes, Docker</td>\n",
       "      <td>...</td>\n",
       "      <td>0</td>\n",
       "      <td>28</td>\n",
       "      <td>Full-time employee</td>\n",
       "      <td>Unlimited contract</td>\n",
       "      <td>English</td>\n",
       "      <td>101-1000</td>\n",
       "      <td>Product</td>\n",
       "      <td>No</td>\n",
       "      <td>20.0</td>\n",
       "      <td>NaN</td>\n",
       "    </tr>\n",
       "    <tr>\n",
       "      <th>664</th>\n",
       "      <td>25/11/2020 18:24:15</td>\n",
       "      <td>30.0</td>\n",
       "      <td>Male</td>\n",
       "      <td>Berlin</td>\n",
       "      <td>Software Engineer</td>\n",
       "      <td>8</td>\n",
       "      <td>2</td>\n",
       "      <td>Senior</td>\n",
       "      <td>JS</td>\n",
       "      <td>NaN</td>\n",
       "      <td>...</td>\n",
       "      <td>0</td>\n",
       "      <td>~25</td>\n",
       "      <td>Full-time employee</td>\n",
       "      <td>Unlimited contract</td>\n",
       "      <td>English</td>\n",
       "      <td>51-100</td>\n",
       "      <td>Product</td>\n",
       "      <td>No</td>\n",
       "      <td>20.0</td>\n",
       "      <td>0</td>\n",
       "    </tr>\n",
       "    <tr>\n",
       "      <th>405</th>\n",
       "      <td>24/11/2020 20:00:02</td>\n",
       "      <td>40.0</td>\n",
       "      <td>Male</td>\n",
       "      <td>Berlin</td>\n",
       "      <td>Architect</td>\n",
       "      <td>10</td>\n",
       "      <td>3</td>\n",
       "      <td>Middle</td>\n",
       "      <td>NaN</td>\n",
       "      <td>Python, R, Go</td>\n",
       "      <td>...</td>\n",
       "      <td>NaN</td>\n",
       "      <td>30</td>\n",
       "      <td>Full-time employee</td>\n",
       "      <td>Unlimited contract</td>\n",
       "      <td>English</td>\n",
       "      <td>101-1000</td>\n",
       "      <td>NaN</td>\n",
       "      <td>No</td>\n",
       "      <td>NaN</td>\n",
       "      <td>NaN</td>\n",
       "    </tr>\n",
       "    <tr>\n",
       "      <th>428</th>\n",
       "      <td>24/11/2020 20:41:20</td>\n",
       "      <td>30.0</td>\n",
       "      <td>Female</td>\n",
       "      <td>Berlin</td>\n",
       "      <td>QA Engineer</td>\n",
       "      <td>4</td>\n",
       "      <td>1</td>\n",
       "      <td>Middle</td>\n",
       "      <td>NaN</td>\n",
       "      <td>Javascript / Typescript</td>\n",
       "      <td>...</td>\n",
       "      <td>NaN</td>\n",
       "      <td>20</td>\n",
       "      <td>Full-time employee</td>\n",
       "      <td>Unlimited contract</td>\n",
       "      <td>English</td>\n",
       "      <td>51-100</td>\n",
       "      <td>Startup</td>\n",
       "      <td>No</td>\n",
       "      <td>NaN</td>\n",
       "      <td>NaN</td>\n",
       "    </tr>\n",
       "    <tr>\n",
       "      <th>1076</th>\n",
       "      <td>03/12/2020 21:59:27</td>\n",
       "      <td>24.0</td>\n",
       "      <td>Male</td>\n",
       "      <td>Moscow</td>\n",
       "      <td>Product Manager</td>\n",
       "      <td>3</td>\n",
       "      <td>0</td>\n",
       "      <td>Senior</td>\n",
       "      <td>NaN</td>\n",
       "      <td>NaN</td>\n",
       "      <td>...</td>\n",
       "      <td>0</td>\n",
       "      <td>28</td>\n",
       "      <td>Full-time employee</td>\n",
       "      <td>Unlimited contract</td>\n",
       "      <td>Русский</td>\n",
       "      <td>1000+</td>\n",
       "      <td>Product</td>\n",
       "      <td>No</td>\n",
       "      <td>0.0</td>\n",
       "      <td>0</td>\n",
       "    </tr>\n",
       "  </tbody>\n",
       "</table>\n",
       "<p>5 rows × 23 columns</p>\n",
       "</div>"
      ],
      "text/plain": [
       "                Timestamp   Age  Gender    City          Position   \\\n",
       "734   26/11/2020 08:39:28  36.0    Male  Berlin  Backend Developer   \n",
       "664   25/11/2020 18:24:15  30.0    Male  Berlin  Software Engineer   \n",
       "405   24/11/2020 20:00:02  40.0    Male  Berlin          Architect   \n",
       "428   24/11/2020 20:41:20  30.0  Female  Berlin        QA Engineer   \n",
       "1076  03/12/2020 21:59:27  24.0    Male  Moscow    Product Manager   \n",
       "\n",
       "     Total years of experience Years of experience in Germany Seniority level  \\\n",
       "734                          4                              1          Middle   \n",
       "664                          8                              2          Senior   \n",
       "405                         10                              3          Middle   \n",
       "428                          4                              1          Middle   \n",
       "1076                         3                              0          Senior   \n",
       "\n",
       "     Your main technology / programming language  \\\n",
       "734                                         Java   \n",
       "664                                           JS   \n",
       "405                                          NaN   \n",
       "428                                          NaN   \n",
       "1076                                         NaN   \n",
       "\n",
       "     Other technologies/programming languages you use often  ...  \\\n",
       "734                     Python, SQL, Kubernetes, Docker      ...   \n",
       "664                                                 NaN      ...   \n",
       "405                                       Python, R, Go      ...   \n",
       "428                             Javascript / Typescript      ...   \n",
       "1076                                                NaN      ...   \n",
       "\n",
       "      Annual bonus+stocks one year ago. Only answer if staying in same country  \\\n",
       "734                                                   0                          \n",
       "664                                                   0                          \n",
       "405                                                 NaN                          \n",
       "428                                                 NaN                          \n",
       "1076                                                  0                          \n",
       "\n",
       "     Number of vacation days   Employment status   Сontract duration  \\\n",
       "734                       28  Full-time employee  Unlimited contract   \n",
       "664                      ~25  Full-time employee  Unlimited contract   \n",
       "405                       30  Full-time employee  Unlimited contract   \n",
       "428                       20  Full-time employee  Unlimited contract   \n",
       "1076                      28  Full-time employee  Unlimited contract   \n",
       "\n",
       "     Main language at work Company size Company type  \\\n",
       "734                English     101-1000      Product   \n",
       "664                English       51-100      Product   \n",
       "405                English     101-1000          NaN   \n",
       "428                English       51-100      Startup   \n",
       "1076               Русский        1000+      Product   \n",
       "\n",
       "     Have you lost your job due to the coronavirus outbreak?  \\\n",
       "734                                                  No        \n",
       "664                                                  No        \n",
       "405                                                  No        \n",
       "428                                                  No        \n",
       "1076                                                 No        \n",
       "\n",
       "     Have you been forced to have a shorter working week (Kurzarbeit)? If yes, how many hours per week  \\\n",
       "734                                                20.0                                                  \n",
       "664                                                20.0                                                  \n",
       "405                                                 NaN                                                  \n",
       "428                                                 NaN                                                  \n",
       "1076                                                0.0                                                  \n",
       "\n",
       "     Have you received additional monetary support from your employer due to Work From Home? If yes, how much in 2020 in EUR  \n",
       "734                                                 NaN                                                                       \n",
       "664                                                   0                                                                       \n",
       "405                                                 NaN                                                                       \n",
       "428                                                 NaN                                                                       \n",
       "1076                                                  0                                                                       \n",
       "\n",
       "[5 rows x 23 columns]"
      ]
     },
     "execution_count": 4,
     "metadata": {},
     "output_type": "execute_result"
    }
   ],
   "source": [
    "survey_2020.sample(5)"
   ]
  },
  {
   "cell_type": "code",
   "execution_count": 5,
   "id": "b5584d30",
   "metadata": {},
   "outputs": [
    {
     "data": {
      "text/plain": [
       "(1253, 23)"
      ]
     },
     "execution_count": 5,
     "metadata": {},
     "output_type": "execute_result"
    }
   ],
   "source": [
    "survey_2020.shape"
   ]
  },
  {
   "cell_type": "code",
   "execution_count": 6,
   "id": "5e152724",
   "metadata": {},
   "outputs": [
    {
     "data": {
      "text/plain": [
       "Timestamp                                                                                                                   object\n",
       "Age                                                                                                                        float64\n",
       "Gender                                                                                                                      object\n",
       "City                                                                                                                        object\n",
       "Position                                                                                                                    object\n",
       "Total years of experience                                                                                                   object\n",
       "Years of experience in Germany                                                                                              object\n",
       "Seniority level                                                                                                             object\n",
       "Your main technology / programming language                                                                                 object\n",
       "Other technologies/programming languages you use often                                                                      object\n",
       "Yearly brutto salary (without bonus and stocks) in EUR                                                                     float64\n",
       "Yearly bonus + stocks in EUR                                                                                                object\n",
       "Annual brutto salary (without bonus and stocks) one year ago. Only answer if staying in the same country                   float64\n",
       "Annual bonus+stocks one year ago. Only answer if staying in same country                                                    object\n",
       "Number of vacation days                                                                                                     object\n",
       "Employment status                                                                                                           object\n",
       "Сontract duration                                                                                                           object\n",
       "Main language at work                                                                                                       object\n",
       "Company size                                                                                                                object\n",
       "Company type                                                                                                                object\n",
       "Have you lost your job due to the coronavirus outbreak?                                                                     object\n",
       "Have you been forced to have a shorter working week (Kurzarbeit)? If yes, how many hours per week                          float64\n",
       "Have you received additional monetary support from your employer due to Work From Home? If yes, how much in 2020 in EUR     object\n",
       "dtype: object"
      ]
     },
     "execution_count": 6,
     "metadata": {},
     "output_type": "execute_result"
    }
   ],
   "source": [
    "survey_2020.dtypes"
   ]
  },
  {
   "cell_type": "code",
   "execution_count": 7,
   "id": "82b05312",
   "metadata": {},
   "outputs": [
    {
     "data": {
      "text/plain": [
       "0"
      ]
     },
     "execution_count": 7,
     "metadata": {},
     "output_type": "execute_result"
    }
   ],
   "source": [
    "survey_2020.duplicated().sum()"
   ]
  },
  {
   "cell_type": "code",
   "execution_count": 8,
   "id": "a05d04a5",
   "metadata": {},
   "outputs": [
    {
     "data": {
      "text/plain": [
       "Timestamp                                                                                                                    0\n",
       "Age                                                                                                                         27\n",
       "Gender                                                                                                                      10\n",
       "City                                                                                                                         0\n",
       "Position                                                                                                                     6\n",
       "Total years of experience                                                                                                   16\n",
       "Years of experience in Germany                                                                                              32\n",
       "Seniority level                                                                                                             12\n",
       "Your main technology / programming language                                                                                127\n",
       "Other technologies/programming languages you use often                                                                     157\n",
       "Yearly brutto salary (without bonus and stocks) in EUR                                                                       0\n",
       "Yearly bonus + stocks in EUR                                                                                               424\n",
       "Annual brutto salary (without bonus and stocks) one year ago. Only answer if staying in the same country                   368\n",
       "Annual bonus+stocks one year ago. Only answer if staying in same country                                                   639\n",
       "Number of vacation days                                                                                                     68\n",
       "Employment status                                                                                                           17\n",
       "Сontract duration                                                                                                           29\n",
       "Main language at work                                                                                                       16\n",
       "Company size                                                                                                                18\n",
       "Company type                                                                                                                25\n",
       "Have you lost your job due to the coronavirus outbreak?                                                                     20\n",
       "Have you been forced to have a shorter working week (Kurzarbeit)? If yes, how many hours per week                          880\n",
       "Have you received additional monetary support from your employer due to Work From Home? If yes, how much in 2020 in EUR    791\n",
       "dtype: int64"
      ]
     },
     "execution_count": 8,
     "metadata": {},
     "output_type": "execute_result"
    }
   ],
   "source": [
    "survey_2020.isnull().sum()"
   ]
  },
  {
   "cell_type": "code",
   "execution_count": 9,
   "id": "b731dfd3",
   "metadata": {},
   "outputs": [
    {
     "data": {
      "text/plain": [
       "array(['Male', 'Female', nan, 'Diverse'], dtype=object)"
      ]
     },
     "execution_count": 9,
     "metadata": {},
     "output_type": "execute_result"
    }
   ],
   "source": [
    "survey_2020['Gender'].unique()"
   ]
  },
  {
   "cell_type": "code",
   "execution_count": 10,
   "id": "540a6917",
   "metadata": {},
   "outputs": [
    {
     "data": {
      "text/plain": [
       "array(['Senior', 'Lead', 'Junior', 'Middle', 'Head', nan, 'No level',\n",
       "       'VP', 'Manager', 'Work Center Manager', 'CTO', 'No level ',\n",
       "       'Director', 'Key', 'C-level executive manager', 'Principal',\n",
       "       'intern', 'Student', 'no idea, there are no ranges in the firm ',\n",
       "       'C-Level', 'Working Student', 'Entry level', 'Intern', 'student',\n",
       "       'Self employed'], dtype=object)"
      ]
     },
     "execution_count": 10,
     "metadata": {},
     "output_type": "execute_result"
    }
   ],
   "source": [
    "survey_2020['Seniority level'].unique()"
   ]
  },
  {
   "cell_type": "code",
   "execution_count": 11,
   "id": "9708a31b",
   "metadata": {},
   "outputs": [
    {
     "data": {
      "text/plain": [
       "Senior                                       565\n",
       "Middle                                       366\n",
       "Lead                                         166\n",
       "Junior                                        79\n",
       "Head                                          44\n",
       "Principal                                      3\n",
       "student                                        1\n",
       "Intern                                         1\n",
       "Entry level                                    1\n",
       "Working Student                                1\n",
       "C-Level                                        1\n",
       "no idea, there are no ranges in the firm       1\n",
       "Student                                        1\n",
       "intern                                         1\n",
       "Key                                            1\n",
       "C-level executive manager                      1\n",
       "Director                                       1\n",
       "No level                                       1\n",
       "CTO                                            1\n",
       "Work Center Manager                            1\n",
       "Manager                                        1\n",
       "VP                                             1\n",
       "No level                                       1\n",
       "Self employed                                  1\n",
       "Name: Seniority level, dtype: int64"
      ]
     },
     "execution_count": 11,
     "metadata": {},
     "output_type": "execute_result"
    }
   ],
   "source": [
    "survey_2020['Seniority level'].value_counts()"
   ]
  },
  {
   "cell_type": "code",
   "execution_count": 12,
   "id": "c0eabbca",
   "metadata": {},
   "outputs": [
    {
     "data": {
      "text/plain": [
       "Full-time employee                                                                 1190\n",
       "Self-employed (freelancer)                                                           28\n",
       "Part-time employee                                                                    8\n",
       "Founder                                                                               3\n",
       "Company Director                                                                      1\n",
       "working student                                                                       1\n",
       "Working Student                                                                       1\n",
       "Full-time position, part-time position, & self-employed (freelancing, tutoring)       1\n",
       "Intern                                                                                1\n",
       "full-time, but 32 hours per week (it was my request, I'm a student)                   1\n",
       "Werkstudent                                                                           1\n",
       "Name: Employment status, dtype: int64"
      ]
     },
     "execution_count": 12,
     "metadata": {},
     "output_type": "execute_result"
    }
   ],
   "source": [
    "survey_2020['Employment status'].value_counts()"
   ]
  },
  {
   "cell_type": "code",
   "execution_count": 13,
   "id": "cad6e9ba",
   "metadata": {},
   "outputs": [
    {
     "data": {
      "text/plain": [
       "Software Engineer     387\n",
       "Backend Developer     174\n",
       "Data Scientist        110\n",
       "Frontend Developer     89\n",
       "QA Engineer            71\n",
       "DevOps                 57\n",
       "Mobile Developer       53\n",
       "ML Engineer            42\n",
       "Product Manager        39\n",
       "Data Engineer          25\n",
       "Name: Position , dtype: int64"
      ]
     },
     "execution_count": 13,
     "metadata": {},
     "output_type": "execute_result"
    }
   ],
   "source": [
    "survey_2020['Position '].value_counts().head(10)"
   ]
  },
  {
   "cell_type": "markdown",
   "id": "81a3da56",
   "metadata": {},
   "source": [
    "<h2>Data cleaning</h2><br>\n",
    "1.Drop Irrelevant columns e.g timestamp.<br>\n",
    "2.Dropping rows with missing values.<br>\n",
    "3.Replacing employment status recorded as:full-time, but 32 hours per week (it was my request, I'm a student or working student with Full time employee and part time employee respectively.<br>\n",
    "4.Replacing seniority level recorded as:student,intern with Junior level and lead,principal with senior level.<br>"
   ]
  },
  {
   "cell_type": "code",
   "execution_count": 14,
   "id": "b5538fef",
   "metadata": {},
   "outputs": [],
   "source": [
    "#Making a copy of the dataset\n",
    "survey=survey_2020.copy()"
   ]
  },
  {
   "cell_type": "code",
   "execution_count": 15,
   "id": "d42c301c",
   "metadata": {},
   "outputs": [],
   "source": [
    "#Dropping irrelevant columns to my analysis\n",
    "survey.drop(['Have you received additional monetary support from your employer due to Work From Home? If yes, how much in 2020 in EUR','Have you been forced to have a shorter working week (Kurzarbeit)? If yes, how many hours per week','Annual brutto salary (without bonus and stocks) one year ago. Only answer if staying in the same country','Timestamp','Annual bonus+stocks one year ago. Only answer if staying in same country'],axis=1,inplace=True)"
   ]
  },
  {
   "cell_type": "code",
   "execution_count": 16,
   "id": "c17d1b37",
   "metadata": {},
   "outputs": [
    {
     "data": {
      "text/html": [
       "<div>\n",
       "<style scoped>\n",
       "    .dataframe tbody tr th:only-of-type {\n",
       "        vertical-align: middle;\n",
       "    }\n",
       "\n",
       "    .dataframe tbody tr th {\n",
       "        vertical-align: top;\n",
       "    }\n",
       "\n",
       "    .dataframe thead th {\n",
       "        text-align: right;\n",
       "    }\n",
       "</style>\n",
       "<table border=\"1\" class=\"dataframe\">\n",
       "  <thead>\n",
       "    <tr style=\"text-align: right;\">\n",
       "      <th></th>\n",
       "      <th>Age</th>\n",
       "      <th>Gender</th>\n",
       "      <th>City</th>\n",
       "      <th>Position</th>\n",
       "      <th>Total years of experience</th>\n",
       "      <th>Years of experience in Germany</th>\n",
       "      <th>Seniority level</th>\n",
       "      <th>Your main technology / programming language</th>\n",
       "      <th>Other technologies/programming languages you use often</th>\n",
       "      <th>Yearly brutto salary (without bonus and stocks) in EUR</th>\n",
       "      <th>Yearly bonus + stocks in EUR</th>\n",
       "      <th>Number of vacation days</th>\n",
       "      <th>Employment status</th>\n",
       "      <th>Сontract duration</th>\n",
       "      <th>Main language at work</th>\n",
       "      <th>Company size</th>\n",
       "      <th>Company type</th>\n",
       "      <th>Have you lost your job due to the coronavirus outbreak?</th>\n",
       "    </tr>\n",
       "  </thead>\n",
       "  <tbody>\n",
       "    <tr>\n",
       "      <th>0</th>\n",
       "      <td>26.0</td>\n",
       "      <td>Male</td>\n",
       "      <td>Munich</td>\n",
       "      <td>Software Engineer</td>\n",
       "      <td>5</td>\n",
       "      <td>3</td>\n",
       "      <td>Senior</td>\n",
       "      <td>TypeScript</td>\n",
       "      <td>Kotlin, Javascript / Typescript</td>\n",
       "      <td>80000.0</td>\n",
       "      <td>5000</td>\n",
       "      <td>30</td>\n",
       "      <td>Full-time employee</td>\n",
       "      <td>Unlimited contract</td>\n",
       "      <td>English</td>\n",
       "      <td>51-100</td>\n",
       "      <td>Product</td>\n",
       "      <td>No</td>\n",
       "    </tr>\n",
       "    <tr>\n",
       "      <th>1</th>\n",
       "      <td>26.0</td>\n",
       "      <td>Male</td>\n",
       "      <td>Berlin</td>\n",
       "      <td>Backend Developer</td>\n",
       "      <td>7</td>\n",
       "      <td>4</td>\n",
       "      <td>Senior</td>\n",
       "      <td>Ruby</td>\n",
       "      <td>NaN</td>\n",
       "      <td>80000.0</td>\n",
       "      <td>NaN</td>\n",
       "      <td>28</td>\n",
       "      <td>Full-time employee</td>\n",
       "      <td>Unlimited contract</td>\n",
       "      <td>English</td>\n",
       "      <td>101-1000</td>\n",
       "      <td>Product</td>\n",
       "      <td>No</td>\n",
       "    </tr>\n",
       "    <tr>\n",
       "      <th>2</th>\n",
       "      <td>29.0</td>\n",
       "      <td>Male</td>\n",
       "      <td>Berlin</td>\n",
       "      <td>Software Engineer</td>\n",
       "      <td>12</td>\n",
       "      <td>6</td>\n",
       "      <td>Lead</td>\n",
       "      <td>Javascript / Typescript</td>\n",
       "      <td>Javascript / Typescript, Docker</td>\n",
       "      <td>120000.0</td>\n",
       "      <td>120000</td>\n",
       "      <td>30</td>\n",
       "      <td>Self-employed (freelancer)</td>\n",
       "      <td>Temporary contract</td>\n",
       "      <td>English</td>\n",
       "      <td>101-1000</td>\n",
       "      <td>Product</td>\n",
       "      <td>Yes</td>\n",
       "    </tr>\n",
       "    <tr>\n",
       "      <th>3</th>\n",
       "      <td>28.0</td>\n",
       "      <td>Male</td>\n",
       "      <td>Berlin</td>\n",
       "      <td>Frontend Developer</td>\n",
       "      <td>4</td>\n",
       "      <td>1</td>\n",
       "      <td>Junior</td>\n",
       "      <td>Javascript</td>\n",
       "      <td>NaN</td>\n",
       "      <td>54000.0</td>\n",
       "      <td>NaN</td>\n",
       "      <td>24</td>\n",
       "      <td>Full-time employee</td>\n",
       "      <td>Unlimited contract</td>\n",
       "      <td>English</td>\n",
       "      <td>51-100</td>\n",
       "      <td>Startup</td>\n",
       "      <td>No</td>\n",
       "    </tr>\n",
       "    <tr>\n",
       "      <th>4</th>\n",
       "      <td>37.0</td>\n",
       "      <td>Male</td>\n",
       "      <td>Berlin</td>\n",
       "      <td>Backend Developer</td>\n",
       "      <td>17</td>\n",
       "      <td>6</td>\n",
       "      <td>Senior</td>\n",
       "      <td>C# .NET</td>\n",
       "      <td>.NET, SQL, AWS, Docker</td>\n",
       "      <td>62000.0</td>\n",
       "      <td>NaN</td>\n",
       "      <td>29</td>\n",
       "      <td>Full-time employee</td>\n",
       "      <td>Unlimited contract</td>\n",
       "      <td>English</td>\n",
       "      <td>101-1000</td>\n",
       "      <td>Product</td>\n",
       "      <td>No</td>\n",
       "    </tr>\n",
       "  </tbody>\n",
       "</table>\n",
       "</div>"
      ],
      "text/plain": [
       "    Age Gender    City           Position  Total years of experience  \\\n",
       "0  26.0   Male  Munich   Software Engineer                         5   \n",
       "1  26.0   Male  Berlin   Backend Developer                         7   \n",
       "2  29.0   Male  Berlin   Software Engineer                        12   \n",
       "3  28.0   Male  Berlin  Frontend Developer                         4   \n",
       "4  37.0   Male  Berlin   Backend Developer                        17   \n",
       "\n",
       "  Years of experience in Germany Seniority level  \\\n",
       "0                              3          Senior   \n",
       "1                              4          Senior   \n",
       "2                              6            Lead   \n",
       "3                              1          Junior   \n",
       "4                              6          Senior   \n",
       "\n",
       "  Your main technology / programming language  \\\n",
       "0                                  TypeScript   \n",
       "1                                        Ruby   \n",
       "2                     Javascript / Typescript   \n",
       "3                                  Javascript   \n",
       "4                                     C# .NET   \n",
       "\n",
       "  Other technologies/programming languages you use often  \\\n",
       "0                    Kotlin, Javascript / Typescript       \n",
       "1                                                NaN       \n",
       "2                    Javascript / Typescript, Docker       \n",
       "3                                                NaN       \n",
       "4                             .NET, SQL, AWS, Docker       \n",
       "\n",
       "   Yearly brutto salary (without bonus and stocks) in EUR  \\\n",
       "0                                            80000.0        \n",
       "1                                            80000.0        \n",
       "2                                           120000.0        \n",
       "3                                            54000.0        \n",
       "4                                            62000.0        \n",
       "\n",
       "  Yearly bonus + stocks in EUR Number of vacation days  \\\n",
       "0                         5000                      30   \n",
       "1                          NaN                      28   \n",
       "2                       120000                      30   \n",
       "3                          NaN                      24   \n",
       "4                          NaN                      29   \n",
       "\n",
       "            Employment status   Сontract duration Main language at work  \\\n",
       "0          Full-time employee  Unlimited contract               English   \n",
       "1          Full-time employee  Unlimited contract               English   \n",
       "2  Self-employed (freelancer)  Temporary contract               English   \n",
       "3          Full-time employee  Unlimited contract               English   \n",
       "4          Full-time employee  Unlimited contract               English   \n",
       "\n",
       "  Company size Company type  \\\n",
       "0       51-100      Product   \n",
       "1     101-1000      Product   \n",
       "2     101-1000      Product   \n",
       "3       51-100      Startup   \n",
       "4     101-1000      Product   \n",
       "\n",
       "  Have you lost your job due to the coronavirus outbreak?  \n",
       "0                                                 No       \n",
       "1                                                 No       \n",
       "2                                                Yes       \n",
       "3                                                 No       \n",
       "4                                                 No       "
      ]
     },
     "execution_count": 16,
     "metadata": {},
     "output_type": "execute_result"
    }
   ],
   "source": [
    "survey.head()"
   ]
  },
  {
   "cell_type": "code",
   "execution_count": 17,
   "id": "d5697d44",
   "metadata": {},
   "outputs": [
    {
     "data": {
      "text/plain": [
       "(659, 18)"
      ]
     },
     "execution_count": 17,
     "metadata": {},
     "output_type": "execute_result"
    }
   ],
   "source": [
    "#Dropping null rows\n",
    "survey.dropna(inplace=True)\n",
    "\n",
    "survey.shape"
   ]
  },
  {
   "cell_type": "code",
   "execution_count": 18,
   "id": "a90a842f",
   "metadata": {},
   "outputs": [
    {
     "data": {
      "text/plain": [
       "Age                                                        0\n",
       "Gender                                                     0\n",
       "City                                                       0\n",
       "Position                                                   0\n",
       "Total years of experience                                  0\n",
       "Years of experience in Germany                             0\n",
       "Seniority level                                            0\n",
       "Your main technology / programming language                0\n",
       "Other technologies/programming languages you use often     0\n",
       "Yearly brutto salary (without bonus and stocks) in EUR     0\n",
       "Yearly bonus + stocks in EUR                               0\n",
       "Number of vacation days                                    0\n",
       "Employment status                                          0\n",
       "Сontract duration                                          0\n",
       "Main language at work                                      0\n",
       "Company size                                               0\n",
       "Company type                                               0\n",
       "Have you lost your job due to the coronavirus outbreak?    0\n",
       "dtype: int64"
      ]
     },
     "execution_count": 18,
     "metadata": {},
     "output_type": "execute_result"
    }
   ],
   "source": [
    "survey.isna().sum()"
   ]
  },
  {
   "cell_type": "code",
   "execution_count": 19,
   "id": "b6ea2101",
   "metadata": {},
   "outputs": [],
   "source": [
    "#Replacing recorded employment status with either Full time,Part time or self-employed\n",
    "survey['Employment status'] = survey['Employment status'].replace(['Company Director',\"full-time, but 32 hours per week (it was my request, I'm a student)\", 'Full-time position, part-time position, & self-employed (freelancing, tutoring)','Founder'],'Full-time employee')\n",
    "survey['Employment status'] = survey['Employment status'].replace(['working student','Working Student','Werkstudent'],'Part-time employee')\n"
   ]
  },
  {
   "cell_type": "code",
   "execution_count": 20,
   "id": "05940ef1",
   "metadata": {},
   "outputs": [
    {
     "data": {
      "text/plain": [
       "Full-time employee            641\n",
       "Self-employed (freelancer)     12\n",
       "Part-time employee              6\n",
       "Name: Employment status, dtype: int64"
      ]
     },
     "execution_count": 20,
     "metadata": {},
     "output_type": "execute_result"
    }
   ],
   "source": [
    "survey['Employment status'].value_counts()"
   ]
  },
  {
   "cell_type": "code",
   "execution_count": 21,
   "id": "9c134a1d",
   "metadata": {},
   "outputs": [],
   "source": [
    "#Replacing recorded Seniority level with either Senior,middle or junior\n",
    "survey['Seniority level'] = survey['Seniority level'].replace(['student','intern','Entry level','Student','Working Student','Intern'],'Junior')\n",
    "survey['Seniority level'] = survey['Seniority level'].replace(['Lead','CTO','Head','Principal','Key','Manager','C-Level','C-level executive manager','Director','VP','Self employed','Work Center Manager'],'Senior')\n"
   ]
  },
  {
   "cell_type": "code",
   "execution_count": 22,
   "id": "bd140304",
   "metadata": {},
   "outputs": [
    {
     "data": {
      "text/plain": [
       "Senior                                       422\n",
       "Middle                                       193\n",
       "Junior                                        43\n",
       "no idea, there are no ranges in the firm       1\n",
       "Name: Seniority level, dtype: int64"
      ]
     },
     "execution_count": 22,
     "metadata": {},
     "output_type": "execute_result"
    }
   ],
   "source": [
    "survey['Seniority level'].value_counts()"
   ]
  },
  {
   "cell_type": "code",
   "execution_count": 23,
   "id": "3ad559da",
   "metadata": {},
   "outputs": [],
   "source": [
    "survey.drop(survey[survey['Seniority level']=='no idea, there are no ranges in the firm '].index,axis=0,inplace=True)"
   ]
  },
  {
   "cell_type": "code",
   "execution_count": 24,
   "id": "0a24a61c",
   "metadata": {},
   "outputs": [
    {
     "data": {
      "text/plain": [
       "Senior    422\n",
       "Middle    193\n",
       "Junior     43\n",
       "Name: Seniority level, dtype: int64"
      ]
     },
     "execution_count": 24,
     "metadata": {},
     "output_type": "execute_result"
    }
   ],
   "source": [
    "survey['Seniority level'].value_counts()"
   ]
  },
  {
   "cell_type": "code",
   "execution_count": 25,
   "id": "900a25a1",
   "metadata": {},
   "outputs": [
    {
     "name": "stdout",
     "output_type": "stream",
     "text": [
      "<class 'pandas.core.frame.DataFrame'>\n",
      "Int64Index: 658 entries, 0 to 1252\n",
      "Data columns (total 18 columns):\n",
      " #   Column                                                   Non-Null Count  Dtype  \n",
      "---  ------                                                   --------------  -----  \n",
      " 0   Age                                                      658 non-null    float64\n",
      " 1   Gender                                                   658 non-null    object \n",
      " 2   City                                                     658 non-null    object \n",
      " 3   Position                                                 658 non-null    object \n",
      " 4   Total years of experience                                658 non-null    object \n",
      " 5   Years of experience in Germany                           658 non-null    object \n",
      " 6   Seniority level                                          658 non-null    object \n",
      " 7   Your main technology / programming language              658 non-null    object \n",
      " 8   Other technologies/programming languages you use often   658 non-null    object \n",
      " 9   Yearly brutto salary (without bonus and stocks) in EUR   658 non-null    float64\n",
      " 10  Yearly bonus + stocks in EUR                             658 non-null    object \n",
      " 11  Number of vacation days                                  658 non-null    object \n",
      " 12  Employment status                                        658 non-null    object \n",
      " 13  Сontract duration                                        658 non-null    object \n",
      " 14  Main language at work                                    658 non-null    object \n",
      " 15  Company size                                             658 non-null    object \n",
      " 16  Company type                                             658 non-null    object \n",
      " 17  Have you lost your job due to the coronavirus outbreak?  658 non-null    object \n",
      "dtypes: float64(2), object(16)\n",
      "memory usage: 97.7+ KB\n"
     ]
    }
   ],
   "source": [
    "survey.info()"
   ]
  },
  {
   "cell_type": "markdown",
   "id": "c651fb53",
   "metadata": {},
   "source": [
    "<h2>Data exploration</h2>"
   ]
  },
  {
   "cell_type": "code",
   "execution_count": 26,
   "id": "5f58546f",
   "metadata": {},
   "outputs": [
    {
     "name": "stderr",
     "output_type": "stream",
     "text": [
      "C:\\Users\\user\\anaconda3\\lib\\site-packages\\seaborn\\distributions.py:2619: FutureWarning: `distplot` is a deprecated function and will be removed in a future version. Please adapt your code to use either `displot` (a figure-level function with similar flexibility) or `histplot` (an axes-level function for histograms).\n",
      "  warnings.warn(msg, FutureWarning)\n"
     ]
    },
    {
     "data": {
      "text/plain": [
       "<AxesSubplot:xlabel='Age'>"
      ]
     },
     "execution_count": 26,
     "metadata": {},
     "output_type": "execute_result"
    },
    {
     "data": {
      "image/png": "[encoded data removed]",
      "text/plain": [
       "<Figure size 432x288 with 1 Axes>"
      ]
     },
     "metadata": {
      "needs_background": "light"
     },
     "output_type": "display_data"
    }
   ],
   "source": [
    "#Checking the distribution of age\n",
    "sns.distplot(survey['Age'],kde=False)"
   ]
  },
  {
   "cell_type": "code",
   "execution_count": 27,
   "id": "7b23be9d",
   "metadata": {},
   "outputs": [
    {
     "data": {
      "text/plain": [
       "<AxesSubplot:xlabel='Yearly brutto salary (without bonus and stocks) in EUR'>"
      ]
     },
     "execution_count": 27,
     "metadata": {},
     "output_type": "execute_result"
    },
    {
     "data": {
      "image/png": "[encoded data removed]",
      "text/plain": [
       "<Figure size 432x288 with 1 Axes>"
      ]
     },
     "metadata": {
      "needs_background": "light"
     },
     "output_type": "display_data"
    }
   ],
   "source": [
    "#Checking the distribution of Yearly brutto salary (without bonus and stocks) in EUR\n",
    "sns.distplot(survey['Yearly brutto salary (without bonus and stocks) in EUR'],kde=False,bins=40,hist_kws={\"range\": [0, 200000]})"
   ]
  },
  {
   "cell_type": "code",
   "execution_count": 28,
   "id": "eda804c9",
   "metadata": {},
   "outputs": [
    {
     "data": {
      "text/plain": [
       "<AxesSubplot:xlabel='Gender', ylabel='count'>"
      ]
     },
     "execution_count": 28,
     "metadata": {},
     "output_type": "execute_result"
    },
    {
     "data": {
      "image/png": "[encoded data removed]",
      "text/plain": [
       "<Figure size 720x360 with 1 Axes>"
      ]
     },
     "metadata": {
      "needs_background": "light"
     },
     "output_type": "display_data"
    }
   ],
   "source": [
    "#To see which gender is most represented in IT\n",
    "fig=plt.figure(figsize=(10,5))\n",
    "sns.countplot(x=\"Gender\", data=survey,color='brown',order=survey[\"Gender\"].value_counts().index)"
   ]
  },
  {
   "cell_type": "code",
   "execution_count": 29,
   "id": "84c7c764",
   "metadata": {},
   "outputs": [
    {
     "data": {
      "text/plain": [
       "<AxesSubplot:xlabel='Seniority level', ylabel='count'>"
      ]
     },
     "execution_count": 29,
     "metadata": {},
     "output_type": "execute_result"
    },
    {
     "data": {
      "image/png": "[encoded data removed]",
      "text/plain": [
       "<Figure size 720x360 with 1 Axes>"
      ]
     },
     "metadata": {
      "needs_background": "light"
     },
     "output_type": "display_data"
    }
   ],
   "source": [
    "#To see which seniority level was most presented\n",
    "fig=plt.figure(figsize=(10,5))\n",
    "sns.countplot(x=\"Seniority level\", data=survey,color='darkred',order=survey[\"Seniority level\"].value_counts().index)"
   ]
  },
  {
   "cell_type": "code",
   "execution_count": 30,
   "id": "e71ac12d",
   "metadata": {},
   "outputs": [
    {
     "data": {
      "text/plain": [
       "Software Engineer      218\n",
       "Backend Developer       87\n",
       "Data Scientist          81\n",
       "Frontend Developer      43\n",
       "DevOps                  31\n",
       "Mobile Developer        30\n",
       "QA Engineer             29\n",
       "ML Engineer             25\n",
       "Data Engineer           15\n",
       "Engineering Manager      6\n",
       "Name: Position , dtype: int64"
      ]
     },
     "execution_count": 30,
     "metadata": {},
     "output_type": "execute_result"
    }
   ],
   "source": [
    "#To see which profession has more participants\n",
    "ordered=survey['Position '].value_counts().head(10)\n",
    "ordered"
   ]
  },
  {
   "cell_type": "code",
   "execution_count": 31,
   "id": "1f7b14b8",
   "metadata": {},
   "outputs": [
    {
     "data": {
      "image/png": "[encoded data removed]",
      "text/plain": [
       "<Figure size 720x360 with 1 Axes>"
      ]
     },
     "metadata": {
      "needs_background": "light"
     },
     "output_type": "display_data"
    }
   ],
   "source": [
    "#To see the top 10 Programming Languages for Software engineers\n",
    "fig=plt.figure(figsize=(10,5))\n",
    "name=survey[['Position ','Your main technology / programming language']]\n",
    "\n",
    "Software_engineers= name[name['Position '] == 'Software Engineer']\n",
    "\n",
    "# Get a count of the number of occurrences of each technology or programming language\n",
    "language_counts = Software_engineers['Your main technology / programming language'].value_counts().nlargest(10)\n",
    "\n",
    "# Create a bar plot of the top 10 languages\n",
    "language_counts.plot(kind='bar')\n",
    "\n",
    "plt.title('Top 10 Programming Languages for Software engineers')\n",
    "plt.xlabel('Language')\n",
    "plt.ylabel('Number of software engineers')\n",
    "plt.show()"
   ]
  },
  {
   "cell_type": "code",
   "execution_count": 32,
   "id": "fa03624e",
   "metadata": {},
   "outputs": [
    {
     "data": {
      "image/png": "[encoded data removed]",
      "text/plain": [
       "<Figure size 432x288 with 1 Axes>"
      ]
     },
     "metadata": {
      "needs_background": "light"
     },
     "output_type": "display_data"
    }
   ],
   "source": [
    "#To see the top 10 Programming Languages for data analysts\n",
    "data_analysts = name[name['Position '] == 'Data Analyst']\n",
    "\n",
    "# Get a count of the number of occurrences of each technology or programming language\n",
    "language_counts = data_analysts['Your main technology / programming language'].value_counts().nlargest(10)\n",
    "\n",
    "# Create a bar plot of the top 10 languages\n",
    "language_counts.plot(kind='bar')\n",
    "\n",
    "plt.title('Top 10 Programming Languages for Data Analysts')\n",
    "plt.xlabel('Language')\n",
    "plt.ylabel('Number of Data Analysts')\n",
    "plt.show()"
   ]
  },
  {
   "cell_type": "code",
   "execution_count": 33,
   "id": "0546ddfa",
   "metadata": {},
   "outputs": [
    {
     "data": {
      "image/png": "[encoded data removed]",
      "text/plain": [
       "<Figure size 432x288 with 1 Axes>"
      ]
     },
     "metadata": {
      "needs_background": "light"
     },
     "output_type": "display_data"
    }
   ],
   "source": [
    "#To see the top 10 Programming Languages for data engineers\n",
    "data_engineers = name[name['Position '] == 'Data Engineer']\n",
    "\n",
    "# Get a count of the number of occurrences of each technology or programming language\n",
    "language_counts = data_engineers['Your main technology / programming language'].value_counts().nlargest(10)\n",
    "\n",
    "# Create a bar plot of the top 10 languages\n",
    "language_counts.plot(kind='bar')\n",
    "\n",
    "plt.title('Top 10 Programming Languages for Data Engineers')\n",
    "plt.xlabel('Language')\n",
    "plt.ylabel('Number of Data Engineers')\n",
    "plt.show()"
   ]
  },
  {
   "cell_type": "code",
   "execution_count": 34,
   "id": "4146561e",
   "metadata": {},
   "outputs": [
    {
     "data": {
      "image/png": "[encoded data removed]",
      "text/plain": [
       "<Figure size 432x288 with 1 Axes>"
      ]
     },
     "metadata": {
      "needs_background": "light"
     },
     "output_type": "display_data"
    }
   ],
   "source": [
    "#To see the top 10 Programming Languages for data scientists\n",
    "data_scientists = name[name['Position '] == 'Data Scientist']\n",
    "\n",
    "# Get a count of the number of occurrences of each technology or programming language\n",
    "language_counts = data_scientists['Your main technology / programming language'].value_counts().nlargest(10)\n",
    "\n",
    "# Create a bar plot of the top 10 languages\n",
    "language_counts.plot(kind='bar')\n",
    "\n",
    "plt.title('Top 10 Programming Languages for Data scientists')\n",
    "plt.xlabel('Language')\n",
    "plt.ylabel('Number of Data Scientists')\n",
    "plt.show()"
   ]
  },
  {
   "cell_type": "code",
   "execution_count": 35,
   "id": "bc19935c",
   "metadata": {},
   "outputs": [
    {
     "data": {
      "text/html": [
       "<div>\n",
       "<style scoped>\n",
       "    .dataframe tbody tr th:only-of-type {\n",
       "        vertical-align: middle;\n",
       "    }\n",
       "\n",
       "    .dataframe tbody tr th {\n",
       "        vertical-align: top;\n",
       "    }\n",
       "\n",
       "    .dataframe thead th {\n",
       "        text-align: right;\n",
       "    }\n",
       "</style>\n",
       "<table border=\"1\" class=\"dataframe\">\n",
       "  <thead>\n",
       "    <tr style=\"text-align: right;\">\n",
       "      <th></th>\n",
       "      <th>Position</th>\n",
       "      <th>Yearly brutto salary (without bonus and stocks) in EUR</th>\n",
       "    </tr>\n",
       "  </thead>\n",
       "  <tbody>\n",
       "    <tr>\n",
       "      <th>778</th>\n",
       "      <td>Frontend Developer</td>\n",
       "      <td>850000.0</td>\n",
       "    </tr>\n",
       "    <tr>\n",
       "      <th>804</th>\n",
       "      <td>Mobile Developer</td>\n",
       "      <td>240000.0</td>\n",
       "    </tr>\n",
       "    <tr>\n",
       "      <th>441</th>\n",
       "      <td>CTO</td>\n",
       "      <td>200000.0</td>\n",
       "    </tr>\n",
       "    <tr>\n",
       "      <th>574</th>\n",
       "      <td>Freelance AI lead / advisor</td>\n",
       "      <td>200000.0</td>\n",
       "    </tr>\n",
       "    <tr>\n",
       "      <th>966</th>\n",
       "      <td>Data Engineer</td>\n",
       "      <td>200000.0</td>\n",
       "    </tr>\n",
       "    <tr>\n",
       "      <th>494</th>\n",
       "      <td>Manager</td>\n",
       "      <td>180000.0</td>\n",
       "    </tr>\n",
       "    <tr>\n",
       "      <th>837</th>\n",
       "      <td>ML Engineer</td>\n",
       "      <td>180000.0</td>\n",
       "    </tr>\n",
       "    <tr>\n",
       "      <th>958</th>\n",
       "      <td>Backend Developer</td>\n",
       "      <td>172000.0</td>\n",
       "    </tr>\n",
       "    <tr>\n",
       "      <th>727</th>\n",
       "      <td>QA Engineer</td>\n",
       "      <td>159000.0</td>\n",
       "    </tr>\n",
       "    <tr>\n",
       "      <th>838</th>\n",
       "      <td>Software Engineer</td>\n",
       "      <td>151872.0</td>\n",
       "    </tr>\n",
       "    <tr>\n",
       "      <th>35</th>\n",
       "      <td>Data Scientist</td>\n",
       "      <td>150000.0</td>\n",
       "    </tr>\n",
       "  </tbody>\n",
       "</table>\n",
       "</div>"
      ],
      "text/plain": [
       "                       Position   \\\n",
       "778           Frontend Developer   \n",
       "804             Mobile Developer   \n",
       "441                          CTO   \n",
       "574  Freelance AI lead / advisor   \n",
       "966                Data Engineer   \n",
       "494                      Manager   \n",
       "837                  ML Engineer   \n",
       "958            Backend Developer   \n",
       "727                  QA Engineer   \n",
       "838            Software Engineer   \n",
       "35                Data Scientist   \n",
       "\n",
       "     Yearly brutto salary (without bonus and stocks) in EUR  \n",
       "778                                           850000.0       \n",
       "804                                           240000.0       \n",
       "441                                           200000.0       \n",
       "574                                           200000.0       \n",
       "966                                           200000.0       \n",
       "494                                           180000.0       \n",
       "837                                           180000.0       \n",
       "958                                           172000.0       \n",
       "727                                           159000.0       \n",
       "838                                           151872.0       \n",
       "35                                            150000.0       "
      ]
     },
     "execution_count": 35,
     "metadata": {},
     "output_type": "execute_result"
    }
   ],
   "source": [
    "#To investigate top paid positions in IT according to the dataset\n",
    "top_paid=survey[['Position ','Yearly brutto salary (without bonus and stocks) in EUR']].nlargest(11,'Yearly brutto salary (without bonus and stocks) in EUR')\n",
    "top_paid"
   ]
  },
  {
   "cell_type": "code",
   "execution_count": 36,
   "id": "aa5e31f3",
   "metadata": {},
   "outputs": [
    {
     "data": {
      "image/png": "[encoded data removed]",
      "text/plain": [
       "<Figure size 432x288 with 1 Axes>"
      ]
     },
     "metadata": {
      "needs_background": "light"
     },
     "output_type": "display_data"
    }
   ],
   "source": [
    "top_paid.plot(kind='bar', x='Position ', y='Yearly brutto salary (without bonus and stocks) in EUR', legend=False,color='darkred')\n",
    "plt.title('Top paid positions in IT 2020')\n",
    "\n",
    "plt.show()"
   ]
  }
 ],
 "metadata": {
  "kernelspec": {
   "display_name": "Python 3 (ipykernel)",
   "language": "python",
   "name": "python3"
  },
  "language_info": {
   "codemirror_mode": {
    "name": "ipython",
    "version": 3
   },
   "file_extension": ".py",
   "mimetype": "text/x-python",
   "name": "python",
   "nbconvert_exporter": "python",
   "pygments_lexer": "ipython3",
   "version": "3.9.12"
  }
 },
 "nbformat": 4,
 "nbformat_minor": 5
}
